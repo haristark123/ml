{
 "cells": [
  {
   "cell_type": "code",
   "execution_count": 212,
   "metadata": {},
   "outputs": [],
   "source": [
    "import pandas as pd\n",
    "import numpy as np\n",
    "import matplotlib.pyplot as plt\n",
    "%matplotlib inline"
   ]
  },
  {
   "cell_type": "code",
   "execution_count": 213,
   "metadata": {},
   "outputs": [
    {
     "data": {
      "text/html": [
       "<div>\n",
       "<style scoped>\n",
       "    .dataframe tbody tr th:only-of-type {\n",
       "        vertical-align: middle;\n",
       "    }\n",
       "\n",
       "    .dataframe tbody tr th {\n",
       "        vertical-align: top;\n",
       "    }\n",
       "\n",
       "    .dataframe thead th {\n",
       "        text-align: right;\n",
       "    }\n",
       "</style>\n",
       "<table border=\"1\" class=\"dataframe\">\n",
       "  <thead>\n",
       "    <tr style=\"text-align: right;\">\n",
       "      <th></th>\n",
       "      <th>Date</th>\n",
       "      <th>Price USD per Oz</th>\n",
       "      <th>Price INR per Gm</th>\n",
       "    </tr>\n",
       "  </thead>\n",
       "  <tbody>\n",
       "    <tr>\n",
       "      <th>0</th>\n",
       "      <td>2009-01</td>\n",
       "      <td>857.726</td>\n",
       "      <td>2264.618110</td>\n",
       "    </tr>\n",
       "    <tr>\n",
       "      <th>1</th>\n",
       "      <td>2009-02</td>\n",
       "      <td>939.763</td>\n",
       "      <td>2481.216972</td>\n",
       "    </tr>\n",
       "    <tr>\n",
       "      <th>2</th>\n",
       "      <td>2009-03</td>\n",
       "      <td>925.989</td>\n",
       "      <td>2444.850056</td>\n",
       "    </tr>\n",
       "    <tr>\n",
       "      <th>3</th>\n",
       "      <td>2009-04</td>\n",
       "      <td>892.663</td>\n",
       "      <td>2356.860811</td>\n",
       "    </tr>\n",
       "    <tr>\n",
       "      <th>4</th>\n",
       "      <td>2009-05</td>\n",
       "      <td>926.855</td>\n",
       "      <td>2447.136519</td>\n",
       "    </tr>\n",
       "  </tbody>\n",
       "</table>\n",
       "</div>"
      ],
      "text/plain": [
       "      Date  Price USD per Oz  Price INR per Gm\n",
       "0  2009-01           857.726       2264.618110\n",
       "1  2009-02           939.763       2481.216972\n",
       "2  2009-03           925.989       2444.850056\n",
       "3  2009-04           892.663       2356.860811\n",
       "4  2009-05           926.855       2447.136519"
      ]
     },
     "execution_count": 213,
     "metadata": {},
     "output_type": "execute_result"
    }
   ],
   "source": [
    "df=pd.read_csv('Book1.csv')\n",
    "df.head()"
   ]
  },
  {
   "cell_type": "code",
   "execution_count": 214,
   "metadata": {},
   "outputs": [
    {
     "data": {
      "text/html": [
       "<div>\n",
       "<style scoped>\n",
       "    .dataframe tbody tr th:only-of-type {\n",
       "        vertical-align: middle;\n",
       "    }\n",
       "\n",
       "    .dataframe tbody tr th {\n",
       "        vertical-align: top;\n",
       "    }\n",
       "\n",
       "    .dataframe thead th {\n",
       "        text-align: right;\n",
       "    }\n",
       "</style>\n",
       "<table border=\"1\" class=\"dataframe\">\n",
       "  <thead>\n",
       "    <tr style=\"text-align: right;\">\n",
       "      <th></th>\n",
       "      <th>Date</th>\n",
       "      <th>Price USD per Oz</th>\n",
       "      <th>Price INR per Gm</th>\n",
       "    </tr>\n",
       "  </thead>\n",
       "  <tbody>\n",
       "    <tr>\n",
       "      <th>0</th>\n",
       "      <td>2009-01-01</td>\n",
       "      <td>857.726</td>\n",
       "      <td>2264.618110</td>\n",
       "    </tr>\n",
       "    <tr>\n",
       "      <th>1</th>\n",
       "      <td>2009-02-01</td>\n",
       "      <td>939.763</td>\n",
       "      <td>2481.216972</td>\n",
       "    </tr>\n",
       "    <tr>\n",
       "      <th>2</th>\n",
       "      <td>2009-03-01</td>\n",
       "      <td>925.989</td>\n",
       "      <td>2444.850056</td>\n",
       "    </tr>\n",
       "    <tr>\n",
       "      <th>3</th>\n",
       "      <td>2009-04-01</td>\n",
       "      <td>892.663</td>\n",
       "      <td>2356.860811</td>\n",
       "    </tr>\n",
       "    <tr>\n",
       "      <th>4</th>\n",
       "      <td>2009-05-01</td>\n",
       "      <td>926.855</td>\n",
       "      <td>2447.136519</td>\n",
       "    </tr>\n",
       "  </tbody>\n",
       "</table>\n",
       "</div>"
      ],
      "text/plain": [
       "        Date  Price USD per Oz  Price INR per Gm\n",
       "0 2009-01-01           857.726       2264.618110\n",
       "1 2009-02-01           939.763       2481.216972\n",
       "2 2009-03-01           925.989       2444.850056\n",
       "3 2009-04-01           892.663       2356.860811\n",
       "4 2009-05-01           926.855       2447.136519"
      ]
     },
     "execution_count": 214,
     "metadata": {},
     "output_type": "execute_result"
    }
   ],
   "source": [
    "df[\"Date\"]=pd.to_datetime(df['Date'])\n",
    "df.head()"
   ]
  },
  {
   "cell_type": "code",
   "execution_count": 215,
   "metadata": {},
   "outputs": [
    {
     "data": {
      "text/html": [
       "<div>\n",
       "<style scoped>\n",
       "    .dataframe tbody tr th:only-of-type {\n",
       "        vertical-align: middle;\n",
       "    }\n",
       "\n",
       "    .dataframe tbody tr th {\n",
       "        vertical-align: top;\n",
       "    }\n",
       "\n",
       "    .dataframe thead th {\n",
       "        text-align: right;\n",
       "    }\n",
       "</style>\n",
       "<table border=\"1\" class=\"dataframe\">\n",
       "  <thead>\n",
       "    <tr style=\"text-align: right;\">\n",
       "      <th></th>\n",
       "      <th>Date</th>\n",
       "      <th>Price INR per Gm</th>\n",
       "    </tr>\n",
       "  </thead>\n",
       "  <tbody>\n",
       "    <tr>\n",
       "      <th>0</th>\n",
       "      <td>2009-01-01</td>\n",
       "      <td>2264.618110</td>\n",
       "    </tr>\n",
       "    <tr>\n",
       "      <th>1</th>\n",
       "      <td>2009-02-01</td>\n",
       "      <td>2481.216972</td>\n",
       "    </tr>\n",
       "    <tr>\n",
       "      <th>2</th>\n",
       "      <td>2009-03-01</td>\n",
       "      <td>2444.850056</td>\n",
       "    </tr>\n",
       "    <tr>\n",
       "      <th>3</th>\n",
       "      <td>2009-04-01</td>\n",
       "      <td>2356.860811</td>\n",
       "    </tr>\n",
       "    <tr>\n",
       "      <th>4</th>\n",
       "      <td>2009-05-01</td>\n",
       "      <td>2447.136519</td>\n",
       "    </tr>\n",
       "  </tbody>\n",
       "</table>\n",
       "</div>"
      ],
      "text/plain": [
       "        Date  Price INR per Gm\n",
       "0 2009-01-01       2264.618110\n",
       "1 2009-02-01       2481.216972\n",
       "2 2009-03-01       2444.850056\n",
       "3 2009-04-01       2356.860811\n",
       "4 2009-05-01       2447.136519"
      ]
     },
     "execution_count": 215,
     "metadata": {},
     "output_type": "execute_result"
    }
   ],
   "source": [
    "df.drop('Price USD per Oz',axis=1,inplace=True)\n",
    "df.head()"
   ]
  },
  {
   "cell_type": "code",
   "execution_count": 216,
   "metadata": {},
   "outputs": [],
   "source": [
    "df.set_index('Date',inplace=True)"
   ]
  },
  {
   "cell_type": "code",
   "execution_count": 217,
   "metadata": {},
   "outputs": [
    {
     "data": {
      "text/html": [
       "<div>\n",
       "<style scoped>\n",
       "    .dataframe tbody tr th:only-of-type {\n",
       "        vertical-align: middle;\n",
       "    }\n",
       "\n",
       "    .dataframe tbody tr th {\n",
       "        vertical-align: top;\n",
       "    }\n",
       "\n",
       "    .dataframe thead th {\n",
       "        text-align: right;\n",
       "    }\n",
       "</style>\n",
       "<table border=\"1\" class=\"dataframe\">\n",
       "  <thead>\n",
       "    <tr style=\"text-align: right;\">\n",
       "      <th></th>\n",
       "      <th>Price INR per Gm</th>\n",
       "    </tr>\n",
       "    <tr>\n",
       "      <th>Date</th>\n",
       "      <th></th>\n",
       "    </tr>\n",
       "  </thead>\n",
       "  <tbody>\n",
       "    <tr>\n",
       "      <th>2009-01-01</th>\n",
       "      <td>2264.618110</td>\n",
       "    </tr>\n",
       "    <tr>\n",
       "      <th>2009-02-01</th>\n",
       "      <td>2481.216972</td>\n",
       "    </tr>\n",
       "    <tr>\n",
       "      <th>2009-03-01</th>\n",
       "      <td>2444.850056</td>\n",
       "    </tr>\n",
       "    <tr>\n",
       "      <th>2009-04-01</th>\n",
       "      <td>2356.860811</td>\n",
       "    </tr>\n",
       "    <tr>\n",
       "      <th>2009-05-01</th>\n",
       "      <td>2447.136519</td>\n",
       "    </tr>\n",
       "  </tbody>\n",
       "</table>\n",
       "</div>"
      ],
      "text/plain": [
       "            Price INR per Gm\n",
       "Date                        \n",
       "2009-01-01       2264.618110\n",
       "2009-02-01       2481.216972\n",
       "2009-03-01       2444.850056\n",
       "2009-04-01       2356.860811\n",
       "2009-05-01       2447.136519"
      ]
     },
     "execution_count": 217,
     "metadata": {},
     "output_type": "execute_result"
    }
   ],
   "source": [
    "df.head()"
   ]
  },
  {
   "cell_type": "code",
   "execution_count": 218,
   "metadata": {},
   "outputs": [
    {
     "data": {
      "text/plain": [
       "[<matplotlib.lines.Line2D at 0x1b4e1e34fa0>]"
      ]
     },
     "execution_count": 218,
     "metadata": {},
     "output_type": "execute_result"
    },
    {
     "data": {
      "image/png": "[encoded data removed]",
      "text/plain": [
       "<Figure size 432x288 with 1 Axes>"
      ]
     },
     "metadata": {
      "needs_background": "light"
     },
     "output_type": "display_data"
    }
   ],
   "source": [
    "plt.plot(df)"
   ]
  },
  {
   "cell_type": "code",
   "execution_count": 219,
   "metadata": {},
   "outputs": [],
   "source": [
    "from statsmodels.tsa.stattools import adfuller\n",
    "def adfuller_test(price):\n",
    "    result=adfuller(price)\n",
    "    labels=['ADF Test Statistic','p-value','#Lags Used','Number of Observations Used']\n",
    "    for i,j in zip(result,labels):\n",
    "        print(j+':'+str(i))\n",
    "    if result[1] <= 0.05:\n",
    "        print(\"strong evidence against the null hypothesis(Ho), reject the null hypothesis. Data has no unit root and is stationary\")\n",
    "    else:\n",
    "        print(\"weak evidence against null hypothesis, time series has a unit root, indicating it is non-stationary \")\n",
    "    "
   ]
  },
  {
   "cell_type": "code",
   "execution_count": 220,
   "metadata": {},
   "outputs": [
    {
     "name": "stdout",
     "output_type": "stream",
     "text": [
      "ADF Test Statistic:-1.5521362657931976\n",
      "p-value:0.5075809297397111\n",
      "#Lags Used:5\n",
      "Number of Observations Used:133\n",
      "weak evidence against null hypothesis, time series has a unit root, indicating it is non-stationary \n"
     ]
    }
   ],
   "source": [
    "adfuller_test(df['Price INR per Gm'])"
   ]
  },
  {
   "cell_type": "code",
   "execution_count": 221,
   "metadata": {},
   "outputs": [
    {
     "name": "stdout",
     "output_type": "stream",
     "text": [
      "ADF Test Statistic:-3.682772831796605\n",
      "p-value:0.004362099347449027\n",
      "#Lags Used:4\n",
      "Number of Observations Used:133\n",
      "strong evidence against the null hypothesis(Ho), reject the null hypothesis. Data has no unit root and is stationary\n"
     ]
    }
   ],
   "source": [
    "df['Price_first_difference']=df['Price INR per Gm']-df['Price INR per Gm'].shift(1)\n",
    "adfuller_test(df['Price_first_difference'].dropna())"
   ]
  },
  {
   "cell_type": "code",
   "execution_count": 222,
   "metadata": {},
   "outputs": [
    {
     "name": "stdout",
     "output_type": "stream",
     "text": [
      "ADF Test Statistic:-2.713029574240634\n",
      "p-value:0.07181059487604642\n",
      "#Lags Used:8\n",
      "Number of Observations Used:128\n",
      "weak evidence against null hypothesis, time series has a unit root, indicating it is non-stationary \n"
     ]
    }
   ],
   "source": [
    "df['Price_second_difference']=df['Price INR per Gm']-df['Price INR per Gm'].shift(2)\n",
    "adfuller_test(df['Price_second_difference'].dropna())"
   ]
  },
  {
   "cell_type": "code",
   "execution_count": 223,
   "metadata": {},
   "outputs": [
    {
     "name": "stdout",
     "output_type": "stream",
     "text": [
      "ADF Test Statistic:-1.267939034706784\n",
      "p-value:0.643709670186713\n",
      "#Lags Used:13\n",
      "Number of Observations Used:113\n",
      "weak evidence against null hypothesis, time series has a unit root, indicating it is non-stationary \n"
     ]
    }
   ],
   "source": [
    "df['Price_3_difference']=df['Price INR per Gm']-df['Price INR per Gm'].shift(12)\n",
    "adfuller_test(df['Price_3_difference'].dropna())"
   ]
  },
  {
   "cell_type": "code",
   "execution_count": 224,
   "metadata": {},
   "outputs": [
    {
     "data": {
      "text/plain": [
       "<matplotlib.axes._subplots.AxesSubplot at 0x1b4e1e89c10>"
      ]
     },
     "execution_count": 224,
     "metadata": {},
     "output_type": "execute_result"
    },
    {
     "data": {
      "image/png": "[encoded data removed]",
      "text/plain": [
       "<Figure size 432x288 with 1 Axes>"
      ]
     },
     "metadata": {
      "needs_background": "light"
     },
     "output_type": "display_data"
    }
   ],
   "source": [
    "df['Price_first_difference'].plot()"
   ]
  },
  {
   "cell_type": "code",
   "execution_count": 225,
   "metadata": {},
   "outputs": [],
   "source": [
    "from statsmodels.graphics.tsaplots import plot_acf,plot_pacf\n",
    "import statsmodels.api as sm"
   ]
  },
  {
   "cell_type": "code",
   "execution_count": 226,
   "metadata": {},
   "outputs": [
    {
     "data": {
      "image/png": "[encoded data removed]",
      "text/plain": [
       "<Figure size 432x288 with 1 Axes>"
      ]
     },
     "execution_count": 226,
     "metadata": {},
     "output_type": "execute_result"
    },
    {
     "data": {
      "image/png": "[encoded data removed]",
      "text/plain": [
       "<Figure size 432x288 with 1 Axes>"
      ]
     },
     "metadata": {
      "needs_background": "light"
     },
     "output_type": "display_data"
    }
   ],
   "source": [
    "# plt.subplot(2,2,2)\n",
    "sm.graphics.tsa.plot_acf(df['Price_first_difference'].iloc[1:],lags=40)\n",
    "# plt.subplot(2,2,1)\n",
    "# df['Price_first_difference'].plot()"
   ]
  },
  {
   "cell_type": "code",
   "execution_count": 227,
   "metadata": {},
   "outputs": [
    {
     "data": {
      "image/png": "[encoded data removed]",
      "text/plain": [
       "<Figure size 432x288 with 1 Axes>"
      ]
     },
     "execution_count": 227,
     "metadata": {},
     "output_type": "execute_result"
    },
    {
     "data": {
      "image/png": "[encoded data removed]",
      "text/plain": [
       "<Figure size 432x288 with 1 Axes>"
      ]
     },
     "metadata": {
      "needs_background": "light"
     },
     "output_type": "display_data"
    }
   ],
   "source": [
    "sm.graphics.tsa.plot_acf(df['Price_second_difference'].iloc[1:],lags=40)"
   ]
  },
  {
   "cell_type": "code",
   "execution_count": 228,
   "metadata": {},
   "outputs": [
    {
     "data": {
      "image/png": "[encoded data removed]",
      "text/plain": [
       "<Figure size 432x288 with 1 Axes>"
      ]
     },
     "execution_count": 228,
     "metadata": {},
     "output_type": "execute_result"
    },
    {
     "data": {
      "image/png": "[encoded data removed]",
      "text/plain": [
       "<Figure size 432x288 with 1 Axes>"
      ]
     },
     "metadata": {
      "needs_background": "light"
     },
     "output_type": "display_data"
    }
   ],
   "source": [
    "sm.graphics.tsa.plot_acf(df['Price INR per Gm'].iloc[1:],lags=40)\n",
    "# plt.subplot(2,2,1)"
   ]
  },
  {
   "cell_type": "code",
   "execution_count": 229,
   "metadata": {},
   "outputs": [],
   "source": [
    "from statsmodels.tsa.arima_model import ARIMA"
   ]
  },
  {
   "cell_type": "code",
   "execution_count": 230,
   "metadata": {},
   "outputs": [],
   "source": [
    "# model=ARIMA(df['Price INR per Gm'],order=(1,1,1))\n",
    "# model_fit=model.fit()"
   ]
  },
  {
   "cell_type": "code",
   "execution_count": 231,
   "metadata": {},
   "outputs": [],
   "source": [
    "# model_fit.summary()"
   ]
  },
  {
   "cell_type": "code",
   "execution_count": 268,
   "metadata": {},
   "outputs": [
    {
     "name": "stderr",
     "output_type": "stream",
     "text": [
      "C:\\Anaconda\\lib\\site-packages\\statsmodels\\tsa\\base\\tsa_model.py:159: ValueWarning: No frequency information was provided, so inferred frequency MS will be used.\n",
      "  warnings.warn('No frequency information was'\n"
     ]
    }
   ],
   "source": [
    "df['Price_first_difference'].dropna(inplace=True)\n",
    "model1=ARIMA(df['Price_first_difference'],order=(1,1,2))\n",
    "model1_fit=model1.fit()"
   ]
  },
  {
   "cell_type": "code",
   "execution_count": 269,
   "metadata": {},
   "outputs": [
    {
     "data": {
      "text/html": [
       "<table class=\"simpletable\">\n",
       "<caption>ARIMA Model Results</caption>\n",
       "<tr>\n",
       "  <th>Dep. Variable:</th> <td>D.Price_first_difference</td> <th>  No. Observations:  </th>    <td>137</td>  \n",
       "</tr>\n",
       "<tr>\n",
       "  <th>Model:</th>              <td>ARIMA(1, 1, 2)</td>      <th>  Log Likelihood     </th> <td>-846.084</td>\n",
       "</tr>\n",
       "<tr>\n",
       "  <th>Method:</th>                 <td>css-mle</td>         <th>  S.D. of innovations</th>  <td>114.389</td>\n",
       "</tr>\n",
       "<tr>\n",
       "  <th>Date:</th>              <td>Mon, 11 Jan 2021</td>     <th>  AIC                </th> <td>1702.168</td>\n",
       "</tr>\n",
       "<tr>\n",
       "  <th>Time:</th>                  <td>12:44:03</td>         <th>  BIC                </th> <td>1716.768</td>\n",
       "</tr>\n",
       "<tr>\n",
       "  <th>Sample:</th>               <td>03-01-2009</td>        <th>  HQIC               </th> <td>1708.101</td>\n",
       "</tr>\n",
       "<tr>\n",
       "  <th></th>                     <td>- 07-01-2020</td>       <th>                     </th>     <td> </td>   \n",
       "</tr>\n",
       "</table>\n",
       "<table class=\"simpletable\">\n",
       "<tr>\n",
       "                 <td></td>                   <th>coef</th>     <th>std err</th>      <th>z</th>      <th>P>|z|</th>  <th>[0.025</th>    <th>0.975]</th>  \n",
       "</tr>\n",
       "<tr>\n",
       "  <th>const</th>                          <td>    0.1813</td> <td>    0.959</td> <td>    0.189</td> <td> 0.850</td> <td>   -1.698</td> <td>    2.061</td>\n",
       "</tr>\n",
       "<tr>\n",
       "  <th>ar.L1.D.Price_first_difference</th> <td>   -0.7344</td> <td>    0.060</td> <td>  -12.197</td> <td> 0.000</td> <td>   -0.852</td> <td>   -0.616</td>\n",
       "</tr>\n",
       "<tr>\n",
       "  <th>ma.L1.D.Price_first_difference</th> <td>    0.0766</td> <td>    0.045</td> <td>    1.713</td> <td> 0.087</td> <td>   -0.011</td> <td>    0.164</td>\n",
       "</tr>\n",
       "<tr>\n",
       "  <th>ma.L2.D.Price_first_difference</th> <td>   -0.9233</td> <td>    0.044</td> <td>  -21.112</td> <td> 0.000</td> <td>   -1.009</td> <td>   -0.838</td>\n",
       "</tr>\n",
       "</table>\n",
       "<table class=\"simpletable\">\n",
       "<caption>Roots</caption>\n",
       "<tr>\n",
       "    <td></td>   <th>            Real</th>  <th>         Imaginary</th> <th>         Modulus</th>  <th>        Frequency</th>\n",
       "</tr>\n",
       "<tr>\n",
       "  <th>AR.1</th> <td>          -1.3617</td> <td>          +0.0000j</td> <td>           1.3617</td> <td>           0.5000</td>\n",
       "</tr>\n",
       "<tr>\n",
       "  <th>MA.1</th> <td>          -1.0001</td> <td>          +0.0000j</td> <td>           1.0001</td> <td>           0.5000</td>\n",
       "</tr>\n",
       "<tr>\n",
       "  <th>MA.2</th> <td>           1.0830</td> <td>          +0.0000j</td> <td>           1.0830</td> <td>           0.0000</td>\n",
       "</tr>\n",
       "</table>"
      ],
      "text/plain": [
       "<class 'statsmodels.iolib.summary.Summary'>\n",
       "\"\"\"\n",
       "                                ARIMA Model Results                                 \n",
       "====================================================================================\n",
       "Dep. Variable:     D.Price_first_difference   No. Observations:                  137\n",
       "Model:                       ARIMA(1, 1, 2)   Log Likelihood                -846.084\n",
       "Method:                             css-mle   S.D. of innovations            114.389\n",
       "Date:                      Mon, 11 Jan 2021   AIC                           1702.168\n",
       "Time:                              12:44:03   BIC                           1716.768\n",
       "Sample:                          03-01-2009   HQIC                          1708.101\n",
       "                               - 07-01-2020                                         \n",
       "==================================================================================================\n",
       "                                     coef    std err          z      P>|z|      [0.025      0.975]\n",
       "--------------------------------------------------------------------------------------------------\n",
       "const                              0.1813      0.959      0.189      0.850      -1.698       2.061\n",
       "ar.L1.D.Price_first_difference    -0.7344      0.060    -12.197      0.000      -0.852      -0.616\n",
       "ma.L1.D.Price_first_difference     0.0766      0.045      1.713      0.087      -0.011       0.164\n",
       "ma.L2.D.Price_first_difference    -0.9233      0.044    -21.112      0.000      -1.009      -0.838\n",
       "                                    Roots                                    \n",
       "=============================================================================\n",
       "                  Real          Imaginary           Modulus         Frequency\n",
       "-----------------------------------------------------------------------------\n",
       "AR.1           -1.3617           +0.0000j            1.3617            0.5000\n",
       "MA.1           -1.0001           +0.0000j            1.0001            0.5000\n",
       "MA.2            1.0830           +0.0000j            1.0830            0.0000\n",
       "-----------------------------------------------------------------------------\n",
       "\"\"\""
      ]
     },
     "execution_count": 269,
     "metadata": {},
     "output_type": "execute_result"
    }
   ],
   "source": [
    "model1_fit.summary()"
   ]
  },
  {
   "cell_type": "code",
   "execution_count": 270,
   "metadata": {},
   "outputs": [
    {
     "data": {
      "text/plain": [
       "<matplotlib.axes._subplots.AxesSubplot at 0x1b4e0566910>"
      ]
     },
     "execution_count": 270,
     "metadata": {},
     "output_type": "execute_result"
    },
    {
     "data": {
      "image/png": "[encoded data removed]",
      "text/plain": [
       "<Figure size 2880x720 with 1 Axes>"
      ]
     },
     "metadata": {
      "needs_background": "light"
     },
     "output_type": "display_data"
    }
   ],
   "source": [
    "df['forecast']=model1_fit.predict(start=130,end=150,dynamic=True)\n",
    "df[['Price INR per Gm','forecast']].plot(figsize=(40,10))"
   ]
  },
  {
   "cell_type": "code",
   "execution_count": null,
   "metadata": {},
   "outputs": [],
   "source": []
  },
  {
   "cell_type": "code",
   "execution_count": 271,
   "metadata": {},
   "outputs": [
    {
     "data": {
      "text/plain": [
       "[Timestamp('2020-07-01 00:00:00'),\n",
       " Timestamp('2020-08-01 00:00:00'),\n",
       " Timestamp('2020-09-01 00:00:00'),\n",
       " Timestamp('2020-10-01 00:00:00'),\n",
       " Timestamp('2020-11-01 00:00:00'),\n",
       " Timestamp('2020-12-01 00:00:00'),\n",
       " Timestamp('2021-01-01 00:00:00'),\n",
       " Timestamp('2021-02-01 00:00:00'),\n",
       " Timestamp('2021-03-01 00:00:00'),\n",
       " Timestamp('2021-04-01 00:00:00'),\n",
       " Timestamp('2021-05-01 00:00:00'),\n",
       " Timestamp('2021-06-01 00:00:00'),\n",
       " Timestamp('2021-07-01 00:00:00'),\n",
       " Timestamp('2021-08-01 00:00:00'),\n",
       " Timestamp('2021-09-01 00:00:00'),\n",
       " Timestamp('2021-10-01 00:00:00'),\n",
       " Timestamp('2021-11-01 00:00:00'),\n",
       " Timestamp('2021-12-01 00:00:00'),\n",
       " Timestamp('2022-01-01 00:00:00'),\n",
       " Timestamp('2022-02-01 00:00:00'),\n",
       " Timestamp('2022-03-01 00:00:00'),\n",
       " Timestamp('2022-04-01 00:00:00'),\n",
       " Timestamp('2022-05-01 00:00:00'),\n",
       " Timestamp('2022-06-01 00:00:00')]"
      ]
     },
     "execution_count": 271,
     "metadata": {},
     "output_type": "execute_result"
    }
   ],
   "source": [
    "from pandas.tseries.offsets import DateOffset\n",
    "future_dates=[df.index[-1]+ DateOffset(months=x)for x in range(0,24)]\n",
    "future_dates"
   ]
  },
  {
   "cell_type": "code",
   "execution_count": 272,
   "metadata": {},
   "outputs": [],
   "source": [
    "future_datest_df=pd.DataFrame(index=future_dates[1:],columns=df.columns)\n",
    "future_df=pd.concat([df,future_datest_df])"
   ]
  },
  {
   "cell_type": "code",
   "execution_count": 266,
   "metadata": {},
   "outputs": [
    {
     "data": {
      "text/plain": [
       "<matplotlib.axes._subplots.AxesSubplot at 0x1b4ddeb49a0>"
      ]
     },
     "execution_count": 266,
     "metadata": {},
     "output_type": "execute_result"
    },
    {
     "data": {
      "image/png": "[encoded data removed]",
      "text/plain": [
       "<Figure size 864x576 with 1 Axes>"
      ]
     },
     "metadata": {
      "needs_background": "light"
     },
     "output_type": "display_data"
    }
   ],
   "source": [
    "future_df['forecast'] = model1_fit.predict(start = 130, end = 150, dynamic= True)  \n",
    "future_df[['Price INR per Gm', 'forecast']].plot(figsize=(12, 8)) "
   ]
  },
  {
   "cell_type": "code",
   "execution_count": 267,
   "metadata": {},
   "outputs": [
    {
     "data": {
      "text/html": [
       "<div>\n",
       "<style scoped>\n",
       "    .dataframe tbody tr th:only-of-type {\n",
       "        vertical-align: middle;\n",
       "    }\n",
       "\n",
       "    .dataframe tbody tr th {\n",
       "        vertical-align: top;\n",
       "    }\n",
       "\n",
       "    .dataframe thead th {\n",
       "        text-align: right;\n",
       "    }\n",
       "</style>\n",
       "<table border=\"1\" class=\"dataframe\">\n",
       "  <thead>\n",
       "    <tr style=\"text-align: right;\">\n",
       "      <th></th>\n",
       "      <th>Price INR per Gm</th>\n",
       "      <th>Price_first_difference</th>\n",
       "      <th>Price_second_difference</th>\n",
       "      <th>Price_3_difference</th>\n",
       "      <th>forecast</th>\n",
       "    </tr>\n",
       "  </thead>\n",
       "  <tbody>\n",
       "    <tr>\n",
       "      <th>2020-01-01</th>\n",
       "      <td>4120.566493</td>\n",
       "      <td>212.918342</td>\n",
       "      <td>234.314995</td>\n",
       "      <td>710.329787</td>\n",
       "      <td>112.567328</td>\n",
       "    </tr>\n",
       "    <tr>\n",
       "      <th>2020-02-01</th>\n",
       "      <td>4221.292344</td>\n",
       "      <td>100.725851</td>\n",
       "      <td>313.644193</td>\n",
       "      <td>736.798376</td>\n",
       "      <td>-64.404233</td>\n",
       "    </tr>\n",
       "    <tr>\n",
       "      <th>2020-03-01</th>\n",
       "      <td>4207.948479</td>\n",
       "      <td>-13.343865</td>\n",
       "      <td>87.381986</td>\n",
       "      <td>769.577181</td>\n",
       "      <td>54.415799</td>\n",
       "    </tr>\n",
       "    <tr>\n",
       "      <th>2020-04-01</th>\n",
       "      <td>4435.712993</td>\n",
       "      <td>227.764514</td>\n",
       "      <td>214.420649</td>\n",
       "      <td>1035.984515</td>\n",
       "      <td>-42.335862</td>\n",
       "    </tr>\n",
       "    <tr>\n",
       "      <th>2020-05-01</th>\n",
       "      <td>4529.883083</td>\n",
       "      <td>94.170090</td>\n",
       "      <td>321.934604</td>\n",
       "      <td>1143.857545</td>\n",
       "      <td>33.169048</td>\n",
       "    </tr>\n",
       "    <tr>\n",
       "      <th>2020-06-01</th>\n",
       "      <td>4578.292217</td>\n",
       "      <td>48.409134</td>\n",
       "      <td>142.579224</td>\n",
       "      <td>991.533128</td>\n",
       "      <td>-25.998427</td>\n",
       "    </tr>\n",
       "    <tr>\n",
       "      <th>2020-07-01</th>\n",
       "      <td>4860.205787</td>\n",
       "      <td>281.913570</td>\n",
       "      <td>330.322704</td>\n",
       "      <td>1125.267487</td>\n",
       "      <td>20.581648</td>\n",
       "    </tr>\n",
       "    <tr>\n",
       "      <th>2020-08-01</th>\n",
       "      <td>NaN</td>\n",
       "      <td>NaN</td>\n",
       "      <td>NaN</td>\n",
       "      <td>NaN</td>\n",
       "      <td>-15.856642</td>\n",
       "    </tr>\n",
       "    <tr>\n",
       "      <th>2020-09-01</th>\n",
       "      <td>NaN</td>\n",
       "      <td>NaN</td>\n",
       "      <td>NaN</td>\n",
       "      <td>NaN</td>\n",
       "      <td>12.831092</td>\n",
       "    </tr>\n",
       "    <tr>\n",
       "      <th>2020-10-01</th>\n",
       "      <td>NaN</td>\n",
       "      <td>NaN</td>\n",
       "      <td>NaN</td>\n",
       "      <td>NaN</td>\n",
       "      <td>-9.618001</td>\n",
       "    </tr>\n",
       "    <tr>\n",
       "      <th>2020-11-01</th>\n",
       "      <td>NaN</td>\n",
       "      <td>NaN</td>\n",
       "      <td>NaN</td>\n",
       "      <td>NaN</td>\n",
       "      <td>8.048997</td>\n",
       "    </tr>\n",
       "    <tr>\n",
       "      <th>2020-12-01</th>\n",
       "      <td>NaN</td>\n",
       "      <td>NaN</td>\n",
       "      <td>NaN</td>\n",
       "      <td>NaN</td>\n",
       "      <td>-5.781472</td>\n",
       "    </tr>\n",
       "    <tr>\n",
       "      <th>2021-01-01</th>\n",
       "      <td>NaN</td>\n",
       "      <td>NaN</td>\n",
       "      <td>NaN</td>\n",
       "      <td>NaN</td>\n",
       "      <td>5.098784</td>\n",
       "    </tr>\n",
       "    <tr>\n",
       "      <th>2021-02-01</th>\n",
       "      <td>NaN</td>\n",
       "      <td>NaN</td>\n",
       "      <td>NaN</td>\n",
       "      <td>NaN</td>\n",
       "      <td>-3.421696</td>\n",
       "    </tr>\n",
       "    <tr>\n",
       "      <th>2021-03-01</th>\n",
       "      <td>NaN</td>\n",
       "      <td>NaN</td>\n",
       "      <td>NaN</td>\n",
       "      <td>NaN</td>\n",
       "      <td>3.279093</td>\n",
       "    </tr>\n",
       "    <tr>\n",
       "      <th>2021-04-01</th>\n",
       "      <td>NaN</td>\n",
       "      <td>NaN</td>\n",
       "      <td>NaN</td>\n",
       "      <td>NaN</td>\n",
       "      <td>-1.969964</td>\n",
       "    </tr>\n",
       "    <tr>\n",
       "      <th>2021-05-01</th>\n",
       "      <td>NaN</td>\n",
       "      <td>NaN</td>\n",
       "      <td>NaN</td>\n",
       "      <td>NaN</td>\n",
       "      <td>2.156919</td>\n",
       "    </tr>\n",
       "    <tr>\n",
       "      <th>2021-06-01</th>\n",
       "      <td>NaN</td>\n",
       "      <td>NaN</td>\n",
       "      <td>NaN</td>\n",
       "      <td>NaN</td>\n",
       "      <td>-1.076708</td>\n",
       "    </tr>\n",
       "    <tr>\n",
       "      <th>2021-07-01</th>\n",
       "      <td>NaN</td>\n",
       "      <td>NaN</td>\n",
       "      <td>NaN</td>\n",
       "      <td>NaN</td>\n",
       "      <td>1.465003</td>\n",
       "    </tr>\n",
       "    <tr>\n",
       "      <th>2021-08-01</th>\n",
       "      <td>NaN</td>\n",
       "      <td>NaN</td>\n",
       "      <td>NaN</td>\n",
       "      <td>NaN</td>\n",
       "      <td>-0.527005</td>\n",
       "    </tr>\n",
       "    <tr>\n",
       "      <th>2021-09-01</th>\n",
       "      <td>NaN</td>\n",
       "      <td>NaN</td>\n",
       "      <td>NaN</td>\n",
       "      <td>NaN</td>\n",
       "      <td>NaN</td>\n",
       "    </tr>\n",
       "    <tr>\n",
       "      <th>2021-10-01</th>\n",
       "      <td>NaN</td>\n",
       "      <td>NaN</td>\n",
       "      <td>NaN</td>\n",
       "      <td>NaN</td>\n",
       "      <td>NaN</td>\n",
       "    </tr>\n",
       "    <tr>\n",
       "      <th>2021-11-01</th>\n",
       "      <td>NaN</td>\n",
       "      <td>NaN</td>\n",
       "      <td>NaN</td>\n",
       "      <td>NaN</td>\n",
       "      <td>NaN</td>\n",
       "    </tr>\n",
       "    <tr>\n",
       "      <th>2021-12-01</th>\n",
       "      <td>NaN</td>\n",
       "      <td>NaN</td>\n",
       "      <td>NaN</td>\n",
       "      <td>NaN</td>\n",
       "      <td>NaN</td>\n",
       "    </tr>\n",
       "    <tr>\n",
       "      <th>2022-01-01</th>\n",
       "      <td>NaN</td>\n",
       "      <td>NaN</td>\n",
       "      <td>NaN</td>\n",
       "      <td>NaN</td>\n",
       "      <td>NaN</td>\n",
       "    </tr>\n",
       "    <tr>\n",
       "      <th>2022-02-01</th>\n",
       "      <td>NaN</td>\n",
       "      <td>NaN</td>\n",
       "      <td>NaN</td>\n",
       "      <td>NaN</td>\n",
       "      <td>NaN</td>\n",
       "    </tr>\n",
       "    <tr>\n",
       "      <th>2022-03-01</th>\n",
       "      <td>NaN</td>\n",
       "      <td>NaN</td>\n",
       "      <td>NaN</td>\n",
       "      <td>NaN</td>\n",
       "      <td>NaN</td>\n",
       "    </tr>\n",
       "    <tr>\n",
       "      <th>2022-04-01</th>\n",
       "      <td>NaN</td>\n",
       "      <td>NaN</td>\n",
       "      <td>NaN</td>\n",
       "      <td>NaN</td>\n",
       "      <td>NaN</td>\n",
       "    </tr>\n",
       "    <tr>\n",
       "      <th>2022-05-01</th>\n",
       "      <td>NaN</td>\n",
       "      <td>NaN</td>\n",
       "      <td>NaN</td>\n",
       "      <td>NaN</td>\n",
       "      <td>NaN</td>\n",
       "    </tr>\n",
       "    <tr>\n",
       "      <th>2022-06-01</th>\n",
       "      <td>NaN</td>\n",
       "      <td>NaN</td>\n",
       "      <td>NaN</td>\n",
       "      <td>NaN</td>\n",
       "      <td>NaN</td>\n",
       "    </tr>\n",
       "  </tbody>\n",
       "</table>\n",
       "</div>"
      ],
      "text/plain": [
       "            Price INR per Gm  Price_first_difference  Price_second_difference  \\\n",
       "2020-01-01       4120.566493              212.918342               234.314995   \n",
       "2020-02-01       4221.292344              100.725851               313.644193   \n",
       "2020-03-01       4207.948479              -13.343865                87.381986   \n",
       "2020-04-01       4435.712993              227.764514               214.420649   \n",
       "2020-05-01       4529.883083               94.170090               321.934604   \n",
       "2020-06-01       4578.292217               48.409134               142.579224   \n",
       "2020-07-01       4860.205787              281.913570               330.322704   \n",
       "2020-08-01               NaN                     NaN                      NaN   \n",
       "2020-09-01               NaN                     NaN                      NaN   \n",
       "2020-10-01               NaN                     NaN                      NaN   \n",
       "2020-11-01               NaN                     NaN                      NaN   \n",
       "2020-12-01               NaN                     NaN                      NaN   \n",
       "2021-01-01               NaN                     NaN                      NaN   \n",
       "2021-02-01               NaN                     NaN                      NaN   \n",
       "2021-03-01               NaN                     NaN                      NaN   \n",
       "2021-04-01               NaN                     NaN                      NaN   \n",
       "2021-05-01               NaN                     NaN                      NaN   \n",
       "2021-06-01               NaN                     NaN                      NaN   \n",
       "2021-07-01               NaN                     NaN                      NaN   \n",
       "2021-08-01               NaN                     NaN                      NaN   \n",
       "2021-09-01               NaN                     NaN                      NaN   \n",
       "2021-10-01               NaN                     NaN                      NaN   \n",
       "2021-11-01               NaN                     NaN                      NaN   \n",
       "2021-12-01               NaN                     NaN                      NaN   \n",
       "2022-01-01               NaN                     NaN                      NaN   \n",
       "2022-02-01               NaN                     NaN                      NaN   \n",
       "2022-03-01               NaN                     NaN                      NaN   \n",
       "2022-04-01               NaN                     NaN                      NaN   \n",
       "2022-05-01               NaN                     NaN                      NaN   \n",
       "2022-06-01               NaN                     NaN                      NaN   \n",
       "\n",
       "            Price_3_difference    forecast  \n",
       "2020-01-01          710.329787  112.567328  \n",
       "2020-02-01          736.798376  -64.404233  \n",
       "2020-03-01          769.577181   54.415799  \n",
       "2020-04-01         1035.984515  -42.335862  \n",
       "2020-05-01         1143.857545   33.169048  \n",
       "2020-06-01          991.533128  -25.998427  \n",
       "2020-07-01         1125.267487   20.581648  \n",
       "2020-08-01                 NaN  -15.856642  \n",
       "2020-09-01                 NaN   12.831092  \n",
       "2020-10-01                 NaN   -9.618001  \n",
       "2020-11-01                 NaN    8.048997  \n",
       "2020-12-01                 NaN   -5.781472  \n",
       "2021-01-01                 NaN    5.098784  \n",
       "2021-02-01                 NaN   -3.421696  \n",
       "2021-03-01                 NaN    3.279093  \n",
       "2021-04-01                 NaN   -1.969964  \n",
       "2021-05-01                 NaN    2.156919  \n",
       "2021-06-01                 NaN   -1.076708  \n",
       "2021-07-01                 NaN    1.465003  \n",
       "2021-08-01                 NaN   -0.527005  \n",
       "2021-09-01                 NaN         NaN  \n",
       "2021-10-01                 NaN         NaN  \n",
       "2021-11-01                 NaN         NaN  \n",
       "2021-12-01                 NaN         NaN  \n",
       "2022-01-01                 NaN         NaN  \n",
       "2022-02-01                 NaN         NaN  \n",
       "2022-03-01                 NaN         NaN  \n",
       "2022-04-01                 NaN         NaN  \n",
       "2022-05-01                 NaN         NaN  \n",
       "2022-06-01                 NaN         NaN  "
      ]
     },
     "execution_count": 267,
     "metadata": {},
     "output_type": "execute_result"
    }
   ],
   "source": [
    "future_df.tail(30)"
   ]
  },
  {
   "cell_type": "code",
   "execution_count": null,
   "metadata": {},
   "outputs": [],
   "source": []
  },
  {
   "cell_type": "code",
   "execution_count": null,
   "metadata": {},
   "outputs": [],
   "source": []
  }
 ],
 "metadata": {
  "kernelspec": {
   "display_name": "Python 3",
   "language": "python",
   "name": "python3"
  },
  "language_info": {
   "codemirror_mode": {
    "name": "ipython",
    "version": 3
   },
   "file_extension": ".py",
   "mimetype": "text/x-python",
   "name": "python",
   "nbconvert_exporter": "python",
   "pygments_lexer": "ipython3",
   "version": "3.8.3"
  }
 },
 "nbformat": 4,
 "nbformat_minor": 4
}
