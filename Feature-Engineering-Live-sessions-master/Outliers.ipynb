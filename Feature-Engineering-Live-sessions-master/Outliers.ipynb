{
 "cells": [
  {
   "cell_type": "markdown",
   "metadata": {},
   "source": [
    "### Discussion Related With Outliers And Impact On Machine Learning!!"
   ]
  },
  {
   "cell_type": "markdown",
   "metadata": {},
   "source": [
    "##### Which Machine LEarning Models Are Sensitive To Outliers?\n",
    "1. Naivye Bayes Classifier--- Not Sensitive To Outliers\n",
    "2. SVM--------                Not Sensitive To Outliers          \n",
    "3. Linear Regression----------  Sensitive To Outliers\n",
    "4. Logistic Regression-------   Sensitive To Outliers\n",
    "5. Decision Tree Regressor or Classifier---- Not Sensitive\n",
    "6. Ensemble(RF,XGboost,GB)------- Not Sensitive\n",
    "7. KNN--------------------------- Not Sensitive \n",
    "8. Kmeans------------------------ Sensitive\n",
    "9. Hierarichal------------------- Sensitive \n",
    "10. PCA-------------------------- Sensitive \n",
    "11. Neural Networks-------------- Sensitive\n"
   ]
  },
  {
   "cell_type": "code",
   "execution_count": 1,
   "metadata": {},
   "outputs": [],
   "source": [
    "import pandas as pd"
   ]
  },
  {
   "cell_type": "code",
   "execution_count": 2,
   "metadata": {},
   "outputs": [
    {
     "data": {
      "text/html": [
       "<div>\n",
       "<style scoped>\n",
       "    .dataframe tbody tr th:only-of-type {\n",
       "        vertical-align: middle;\n",
       "    }\n",
       "\n",
       "    .dataframe tbody tr th {\n",
       "        vertical-align: top;\n",
       "    }\n",
       "\n",
       "    .dataframe thead th {\n",
       "        text-align: right;\n",
       "    }\n",
       "</style>\n",
       "<table border=\"1\" class=\"dataframe\">\n",
       "  <thead>\n",
       "    <tr style=\"text-align: right;\">\n",
       "      <th></th>\n",
       "      <th>PassengerId</th>\n",
       "      <th>Survived</th>\n",
       "      <th>Pclass</th>\n",
       "      <th>Name</th>\n",
       "      <th>Sex</th>\n",
       "      <th>Age</th>\n",
       "      <th>SibSp</th>\n",
       "      <th>Parch</th>\n",
       "      <th>Ticket</th>\n",
       "      <th>Fare</th>\n",
       "      <th>Cabin</th>\n",
       "      <th>Embarked</th>\n",
       "    </tr>\n",
       "  </thead>\n",
       "  <tbody>\n",
       "    <tr>\n",
       "      <th>0</th>\n",
       "      <td>1</td>\n",
       "      <td>0</td>\n",
       "      <td>3</td>\n",
       "      <td>Braund, Mr. Owen Harris</td>\n",
       "      <td>male</td>\n",
       "      <td>22.0</td>\n",
       "      <td>1</td>\n",
       "      <td>0</td>\n",
       "      <td>A/5 21171</td>\n",
       "      <td>7.2500</td>\n",
       "      <td>NaN</td>\n",
       "      <td>S</td>\n",
       "    </tr>\n",
       "    <tr>\n",
       "      <th>1</th>\n",
       "      <td>2</td>\n",
       "      <td>1</td>\n",
       "      <td>1</td>\n",
       "      <td>Cumings, Mrs. John Bradley (Florence Briggs Th...</td>\n",
       "      <td>female</td>\n",
       "      <td>38.0</td>\n",
       "      <td>1</td>\n",
       "      <td>0</td>\n",
       "      <td>PC 17599</td>\n",
       "      <td>71.2833</td>\n",
       "      <td>C85</td>\n",
       "      <td>C</td>\n",
       "    </tr>\n",
       "    <tr>\n",
       "      <th>2</th>\n",
       "      <td>3</td>\n",
       "      <td>1</td>\n",
       "      <td>3</td>\n",
       "      <td>Heikkinen, Miss. Laina</td>\n",
       "      <td>female</td>\n",
       "      <td>26.0</td>\n",
       "      <td>0</td>\n",
       "      <td>0</td>\n",
       "      <td>STON/O2. 3101282</td>\n",
       "      <td>7.9250</td>\n",
       "      <td>NaN</td>\n",
       "      <td>S</td>\n",
       "    </tr>\n",
       "    <tr>\n",
       "      <th>3</th>\n",
       "      <td>4</td>\n",
       "      <td>1</td>\n",
       "      <td>1</td>\n",
       "      <td>Futrelle, Mrs. Jacques Heath (Lily May Peel)</td>\n",
       "      <td>female</td>\n",
       "      <td>35.0</td>\n",
       "      <td>1</td>\n",
       "      <td>0</td>\n",
       "      <td>113803</td>\n",
       "      <td>53.1000</td>\n",
       "      <td>C123</td>\n",
       "      <td>S</td>\n",
       "    </tr>\n",
       "    <tr>\n",
       "      <th>4</th>\n",
       "      <td>5</td>\n",
       "      <td>0</td>\n",
       "      <td>3</td>\n",
       "      <td>Allen, Mr. William Henry</td>\n",
       "      <td>male</td>\n",
       "      <td>35.0</td>\n",
       "      <td>0</td>\n",
       "      <td>0</td>\n",
       "      <td>373450</td>\n",
       "      <td>8.0500</td>\n",
       "      <td>NaN</td>\n",
       "      <td>S</td>\n",
       "    </tr>\n",
       "  </tbody>\n",
       "</table>\n",
       "</div>"
      ],
      "text/plain": [
       "   PassengerId  Survived  Pclass  \\\n",
       "0            1         0       3   \n",
       "1            2         1       1   \n",
       "2            3         1       3   \n",
       "3            4         1       1   \n",
       "4            5         0       3   \n",
       "\n",
       "                                                Name     Sex   Age  SibSp  \\\n",
       "0                            Braund, Mr. Owen Harris    male  22.0      1   \n",
       "1  Cumings, Mrs. John Bradley (Florence Briggs Th...  female  38.0      1   \n",
       "2                             Heikkinen, Miss. Laina  female  26.0      0   \n",
       "3       Futrelle, Mrs. Jacques Heath (Lily May Peel)  female  35.0      1   \n",
       "4                           Allen, Mr. William Henry    male  35.0      0   \n",
       "\n",
       "   Parch            Ticket     Fare Cabin Embarked  \n",
       "0      0         A/5 21171   7.2500   NaN        S  \n",
       "1      0          PC 17599  71.2833   C85        C  \n",
       "2      0  STON/O2. 3101282   7.9250   NaN        S  \n",
       "3      0            113803  53.1000  C123        S  \n",
       "4      0            373450   8.0500   NaN        S  "
      ]
     },
     "execution_count": 2,
     "metadata": {},
     "output_type": "execute_result"
    }
   ],
   "source": [
    "df=pd.read_csv('titanic.csv')\n",
    "df.head()"
   ]
  },
  {
   "cell_type": "code",
   "execution_count": 3,
   "metadata": {},
   "outputs": [
    {
     "data": {
      "text/plain": [
       "177"
      ]
     },
     "execution_count": 3,
     "metadata": {},
     "output_type": "execute_result"
    }
   ],
   "source": [
    "df['Age'].isnull().sum()"
   ]
  },
  {
   "cell_type": "code",
   "execution_count": 4,
   "metadata": {},
   "outputs": [],
   "source": [
    "import seaborn as sns"
   ]
  },
  {
   "cell_type": "code",
   "execution_count": 5,
   "metadata": {},
   "outputs": [
    {
     "data": {
      "text/plain": [
       "<matplotlib.axes._subplots.AxesSubplot at 0x2441bf62bb0>"
      ]
     },
     "execution_count": 5,
     "metadata": {},
     "output_type": "execute_result"
    },
    {
     "data": {
      "image/png": "[encoded data removed]",
      "text/plain": [
       "<Figure size 432x288 with 1 Axes>"
      ]
     },
     "metadata": {
      "needs_background": "light"
     },
     "output_type": "display_data"
    }
   ],
   "source": [
    "sns.distplot(df['Age'].dropna())"
   ]
  },
  {
   "cell_type": "code",
   "execution_count": 6,
   "metadata": {},
   "outputs": [
    {
     "data": {
      "text/plain": [
       "<matplotlib.axes._subplots.AxesSubplot at 0x2441c6fb070>"
      ]
     },
     "execution_count": 6,
     "metadata": {},
     "output_type": "execute_result"
    },
    {
     "data": {
      "image/png": "[encoded data removed]",
      "text/plain": [
       "<Figure size 432x288 with 1 Axes>"
      ]
     },
     "metadata": {
      "needs_background": "light"
     },
     "output_type": "display_data"
    }
   ],
   "source": [
    "sns.distplot(df['Age'].fillna(100))"
   ]
  },
  {
   "cell_type": "markdown",
   "metadata": {},
   "source": [
    "#### Gaussian Distributed"
   ]
  },
  {
   "cell_type": "code",
   "execution_count": 7,
   "metadata": {},
   "outputs": [
    {
     "data": {
      "text/plain": [
       "Text(0, 0.5, 'No of passenger')"
      ]
     },
     "execution_count": 7,
     "metadata": {},
     "output_type": "execute_result"
    },
    {
     "data": {
      "image/png": "[encoded data removed]",
      "text/plain": [
       "<Figure size 432x288 with 1 Axes>"
      ]
     },
     "metadata": {
      "needs_background": "light"
     },
     "output_type": "display_data"
    }
   ],
   "source": [
    "figure=df.Age.hist(bins=50)\n",
    "figure.set_title('Age')\n",
    "figure.set_xlabel('Age')\n",
    "figure.set_ylabel('No of passenger')"
   ]
  },
  {
   "cell_type": "code",
   "execution_count": 8,
   "metadata": {},
   "outputs": [
    {
     "data": {
      "image/png": "[encoded data removed]",
      "text/plain": [
       "<Figure size 432x288 with 1 Axes>"
      ]
     },
     "metadata": {
      "needs_background": "light"
     },
     "output_type": "display_data"
    }
   ],
   "source": [
    "figure=df.boxplot(column=\"Age\")"
   ]
  },
  {
   "cell_type": "code",
   "execution_count": 9,
   "metadata": {
    "scrolled": true
   },
   "outputs": [
    {
     "data": {
      "text/plain": [
       "count    714.000000\n",
       "mean      29.699118\n",
       "std       14.526497\n",
       "min        0.420000\n",
       "25%       20.125000\n",
       "50%       28.000000\n",
       "75%       38.000000\n",
       "max       80.000000\n",
       "Name: Age, dtype: float64"
      ]
     },
     "execution_count": 9,
     "metadata": {},
     "output_type": "execute_result"
    }
   ],
   "source": [
    "df['Age'].describe()"
   ]
  },
  {
   "cell_type": "markdown",
   "metadata": {},
   "source": [
    "#### If The Data Is Normally Distributed We use this"
   ]
  },
  {
   "cell_type": "code",
   "execution_count": 10,
   "metadata": {},
   "outputs": [
    {
     "name": "stdout",
     "output_type": "stream",
     "text": [
      "-13.88037434994331\n",
      "73.27860964406095\n",
      "29.69911764705882\n"
     ]
    },
    {
     "data": {
      "text/plain": [
       "(None, None, None)"
      ]
     },
     "execution_count": 10,
     "metadata": {},
     "output_type": "execute_result"
    }
   ],
   "source": [
    "##### Assuming Age follows A Gaussian Distribution we will calculate the boundaries which differentiates the outliers\n",
    "\n",
    "uppper_boundary=df['Age'].mean() + 3* df['Age'].std()\n",
    "lower_boundary=df['Age'].mean() - 3* df['Age'].std()\n",
    "print(lower_boundary), print(uppper_boundary),print(df['Age'].mean())"
   ]
  },
  {
   "cell_type": "markdown",
   "metadata": {},
   "source": [
    "#### If Features Are Skewed We Use the below Technique"
   ]
  },
  {
   "cell_type": "code",
   "execution_count": 11,
   "metadata": {},
   "outputs": [
    {
     "data": {
      "text/plain": [
       "Text(0, 0.5, 'No of passenger')"
      ]
     },
     "execution_count": 11,
     "metadata": {},
     "output_type": "execute_result"
    },
    {
     "data": {
      "image/png": "[encoded data removed]",
      "text/plain": [
       "<Figure size 432x288 with 1 Axes>"
      ]
     },
     "metadata": {
      "needs_background": "light"
     },
     "output_type": "display_data"
    }
   ],
   "source": [
    "figure=df.Fare.hist(bins=50)\n",
    "figure.set_title('Fare')\n",
    "figure.set_xlabel('Fare')\n",
    "figure.set_ylabel('No of passenger')"
   ]
  },
  {
   "cell_type": "code",
   "execution_count": 12,
   "metadata": {},
   "outputs": [
    {
     "data": {
      "text/plain": [
       "<matplotlib.axes._subplots.AxesSubplot at 0x2441c911820>"
      ]
     },
     "execution_count": 12,
     "metadata": {},
     "output_type": "execute_result"
    },
    {
     "data": {
      "image/png": "[encoded data removed]",
      "text/plain": [
       "<Figure size 432x288 with 1 Axes>"
      ]
     },
     "metadata": {
      "needs_background": "light"
     },
     "output_type": "display_data"
    }
   ],
   "source": [
    "df.boxplot(column=\"Fare\")"
   ]
  },
  {
   "cell_type": "code",
   "execution_count": 13,
   "metadata": {},
   "outputs": [
    {
     "data": {
      "text/plain": [
       "count    891.000000\n",
       "mean      32.204208\n",
       "std       49.693429\n",
       "min        0.000000\n",
       "25%        7.910400\n",
       "50%       14.454200\n",
       "75%       31.000000\n",
       "max      512.329200\n",
       "Name: Fare, dtype: float64"
      ]
     },
     "execution_count": 13,
     "metadata": {},
     "output_type": "execute_result"
    }
   ],
   "source": [
    "df['Fare'].describe()"
   ]
  },
  {
   "cell_type": "code",
   "execution_count": 14,
   "metadata": {},
   "outputs": [],
   "source": [
    "#### Lets compute the Interquantile range to calculate the boundaries\n",
    "IQR=df.Fare.quantile(0.75)-df.Fare.quantile(0.25)"
   ]
  },
  {
   "cell_type": "code",
   "execution_count": 15,
   "metadata": {},
   "outputs": [
    {
     "name": "stdout",
     "output_type": "stream",
     "text": [
      "-26.724\n",
      "65.6344\n"
     ]
    },
    {
     "data": {
      "text/plain": [
       "(None, None)"
      ]
     },
     "execution_count": 15,
     "metadata": {},
     "output_type": "execute_result"
    }
   ],
   "source": [
    "lower_bridge=df['Fare'].quantile(0.25)-(IQR*1.5)\n",
    "upper_bridge=df['Fare'].quantile(0.75)+(IQR*1.5)\n",
    "print(lower_bridge), print(upper_bridge)"
   ]
  },
  {
   "cell_type": "code",
   "execution_count": 16,
   "metadata": {},
   "outputs": [
    {
     "name": "stdout",
     "output_type": "stream",
     "text": [
      "-61.358399999999996\n",
      "100.2688\n"
     ]
    },
    {
     "data": {
      "text/plain": [
       "(None, None)"
      ]
     },
     "execution_count": 16,
     "metadata": {},
     "output_type": "execute_result"
    }
   ],
   "source": [
    "#### Extreme outliers\n",
    "lower_bridge=df['Fare'].quantile(0.25)-(IQR*3)\n",
    "upper_bridge=df['Fare'].quantile(0.75)+(IQR*3)\n",
    "print(lower_bridge), print(upper_bridge)"
   ]
  },
  {
   "cell_type": "code",
   "execution_count": 17,
   "metadata": {},
   "outputs": [],
   "source": [
    "data=df.copy()"
   ]
  },
  {
   "cell_type": "code",
   "execution_count": 18,
   "metadata": {},
   "outputs": [],
   "source": [
    "data.loc[data['Age']>=73,'Age']=73"
   ]
  },
  {
   "cell_type": "code",
   "execution_count": 19,
   "metadata": {},
   "outputs": [],
   "source": [
    "data.loc[data['Fare']>=100,'Fare']=100"
   ]
  },
  {
   "cell_type": "code",
   "execution_count": 20,
   "metadata": {},
   "outputs": [
    {
     "data": {
      "text/plain": [
       "Text(0, 0.5, 'No of passenger')"
      ]
     },
     "execution_count": 20,
     "metadata": {},
     "output_type": "execute_result"
    },
    {
     "data": {
      "image/png": "[encoded data removed]",
      "text/plain": [
       "<Figure size 432x288 with 1 Axes>"
      ]
     },
     "metadata": {
      "needs_background": "light"
     },
     "output_type": "display_data"
    }
   ],
   "source": [
    "figure=data.Age.hist(bins=50)\n",
    "figure.set_title('Fare')\n",
    "figure.set_xlabel('Fare')\n",
    "figure.set_ylabel('No of passenger')"
   ]
  },
  {
   "cell_type": "code",
   "execution_count": 21,
   "metadata": {},
   "outputs": [
    {
     "data": {
      "text/plain": [
       "Text(0, 0.5, 'No of passenger')"
      ]
     },
     "execution_count": 21,
     "metadata": {},
     "output_type": "execute_result"
    },
    {
     "data": {
      "image/png": "[encoded data removed]",
      "text/plain": [
       "<Figure size 432x288 with 1 Axes>"
      ]
     },
     "metadata": {
      "needs_background": "light"
     },
     "output_type": "display_data"
    }
   ],
   "source": [
    "figure=data.Fare.hist(bins=50)\n",
    "figure.set_title('Fare')\n",
    "figure.set_xlabel('Fare')\n",
    "figure.set_ylabel('No of passenger')"
   ]
  },
  {
   "cell_type": "code",
   "execution_count": 22,
   "metadata": {},
   "outputs": [],
   "source": [
    "from sklearn.model_selection import train_test_split\n",
    "X_train,X_test,y_train,y_test=train_test_split(data[['Age','Fare']].fillna(0),data['Survived'],test_size=0.3)"
   ]
  },
  {
   "cell_type": "code",
   "execution_count": 23,
   "metadata": {},
   "outputs": [
    {
     "name": "stdout",
     "output_type": "stream",
     "text": [
      "Accuracy_score: 0.7014925373134329\n",
      "roc_auc_score: 0.7664131885992918\n"
     ]
    }
   ],
   "source": [
    "### Logistic Regression\n",
    "from sklearn.linear_model import LogisticRegression\n",
    "classifier=LogisticRegression()\n",
    "classifier.fit(X_train,y_train)\n",
    "y_pred=classifier.predict(X_test)\n",
    "y_pred1=classifier.predict_proba(X_test)\n",
    "\n",
    "from sklearn.metrics import accuracy_score,roc_auc_score\n",
    "print(\"Accuracy_score: {}\".format(accuracy_score(y_test,y_pred)))\n",
    "print(\"roc_auc_score: {}\".format(roc_auc_score(y_test,y_pred1[:,1])))"
   ]
  },
  {
   "cell_type": "code",
   "execution_count": 24,
   "metadata": {},
   "outputs": [
    {
     "data": {
      "text/plain": [
       "array([[0.65492253, 0.34507747],\n",
       "       [0.59432105, 0.40567895],\n",
       "       [0.69938466, 0.30061534],\n",
       "       [0.51731398, 0.48268602],\n",
       "       [0.62777325, 0.37222675],\n",
       "       [0.70139797, 0.29860203],\n",
       "       [0.38207494, 0.61792506],\n",
       "       [0.71870278, 0.28129722],\n",
       "       [0.69913947, 0.30086053],\n",
       "       [0.68027281, 0.31972719],\n",
       "       [0.71636949, 0.28363051],\n",
       "       [0.5665684 , 0.4334316 ],\n",
       "       [0.47685023, 0.52314977],\n",
       "       [0.63121009, 0.36878991],\n",
       "       [0.72827751, 0.27172249],\n",
       "       [0.53381668, 0.46618332],\n",
       "       [0.70806391, 0.29193609],\n",
       "       [0.70680282, 0.29319718],\n",
       "       [0.722559  , 0.277441  ],\n",
       "       [0.59721205, 0.40278795],\n",
       "       [0.51126151, 0.48873849],\n",
       "       [0.71485225, 0.28514775],\n",
       "       [0.70193415, 0.29806585],\n",
       "       [0.72674807, 0.27325193],\n",
       "       [0.64375002, 0.35624998],\n",
       "       [0.72438291, 0.27561709],\n",
       "       [0.55370871, 0.44629129],\n",
       "       [0.70066096, 0.29933904],\n",
       "       [0.64670675, 0.35329325],\n",
       "       [0.54608625, 0.45391375],\n",
       "       [0.54317267, 0.45682733],\n",
       "       [0.69728208, 0.30271792],\n",
       "       [0.61373776, 0.38626224],\n",
       "       [0.37728024, 0.62271976],\n",
       "       [0.51361182, 0.48638818],\n",
       "       [0.63121009, 0.36878991],\n",
       "       [0.40202576, 0.59797424],\n",
       "       [0.71154956, 0.28845044],\n",
       "       [0.71289015, 0.28710985],\n",
       "       [0.70333845, 0.29666155],\n",
       "       [0.66598153, 0.33401847],\n",
       "       [0.70201757, 0.29798243],\n",
       "       [0.69295697, 0.30704303],\n",
       "       [0.3762483 , 0.6237517 ],\n",
       "       [0.70540111, 0.29459889],\n",
       "       [0.47268148, 0.52731852],\n",
       "       [0.68164501, 0.31835499],\n",
       "       [0.67722442, 0.32277558],\n",
       "       [0.41460991, 0.58539009],\n",
       "       [0.70806077, 0.29193923],\n",
       "       [0.63319295, 0.36680705],\n",
       "       [0.70229812, 0.29770188],\n",
       "       [0.64465424, 0.35534576],\n",
       "       [0.70256957, 0.29743043],\n",
       "       [0.63703207, 0.36296793],\n",
       "       [0.70139797, 0.29860203],\n",
       "       [0.63614803, 0.36385197],\n",
       "       [0.71629829, 0.28370171],\n",
       "       [0.68364438, 0.31635562],\n",
       "       [0.6765994 , 0.3234006 ],\n",
       "       [0.6066244 , 0.3933756 ],\n",
       "       [0.71704288, 0.28295712],\n",
       "       [0.35789138, 0.64210862],\n",
       "       [0.71270699, 0.28729301],\n",
       "       [0.71384497, 0.28615503],\n",
       "       [0.63601652, 0.36398348],\n",
       "       [0.38588542, 0.61411458],\n",
       "       [0.61054617, 0.38945383],\n",
       "       [0.70074078, 0.29925922],\n",
       "       [0.54281204, 0.45718796],\n",
       "       [0.70139797, 0.29860203],\n",
       "       [0.63682669, 0.36317331],\n",
       "       [0.71883284, 0.28116716],\n",
       "       [0.30686748, 0.69313252],\n",
       "       [0.73250807, 0.26749193],\n",
       "       [0.7167781 , 0.2832219 ],\n",
       "       [0.71226775, 0.28773225],\n",
       "       [0.30816176, 0.69183824],\n",
       "       [0.25206528, 0.74793472],\n",
       "       [0.59054425, 0.40945575],\n",
       "       [0.59004882, 0.40995118],\n",
       "       [0.7151895 , 0.2848105 ],\n",
       "       [0.70320421, 0.29679579],\n",
       "       [0.70004482, 0.29995518],\n",
       "       [0.66657666, 0.33342334],\n",
       "       [0.64764865, 0.35235135],\n",
       "       [0.61054617, 0.38945383],\n",
       "       [0.69553723, 0.30446277],\n",
       "       [0.69918904, 0.30081096],\n",
       "       [0.69096535, 0.30903465],\n",
       "       [0.70004482, 0.29995518],\n",
       "       [0.69345554, 0.30654446],\n",
       "       [0.7125251 , 0.2874749 ],\n",
       "       [0.50448465, 0.49551535],\n",
       "       [0.61551509, 0.38448491],\n",
       "       [0.70145428, 0.29854572],\n",
       "       [0.26904006, 0.73095994],\n",
       "       [0.26192918, 0.73807082],\n",
       "       [0.69231   , 0.30769   ],\n",
       "       [0.72046374, 0.27953626],\n",
       "       [0.3674877 , 0.6325123 ],\n",
       "       [0.71809466, 0.28190534],\n",
       "       [0.66603533, 0.33396467],\n",
       "       [0.71161471, 0.28838529],\n",
       "       [0.37786393, 0.62213607],\n",
       "       [0.67976269, 0.32023731],\n",
       "       [0.71119172, 0.28880828],\n",
       "       [0.71711037, 0.28288963],\n",
       "       [0.72135842, 0.27864158],\n",
       "       [0.64173211, 0.35826789],\n",
       "       [0.7081482 , 0.2918518 ],\n",
       "       [0.64865685, 0.35134315],\n",
       "       [0.63050239, 0.36949761],\n",
       "       [0.68903275, 0.31096725],\n",
       "       [0.6731561 , 0.3268439 ],\n",
       "       [0.52315948, 0.47684052],\n",
       "       [0.64364132, 0.35635868],\n",
       "       [0.68665365, 0.31334635],\n",
       "       [0.72845801, 0.27154199],\n",
       "       [0.71941372, 0.28058628],\n",
       "       [0.45951352, 0.54048648],\n",
       "       [0.70931554, 0.29068446],\n",
       "       [0.61086789, 0.38913211],\n",
       "       [0.70081564, 0.29918436],\n",
       "       [0.36641976, 0.63358024],\n",
       "       [0.35485713, 0.64514287],\n",
       "       [0.32154126, 0.67845874],\n",
       "       [0.7037387 , 0.2962613 ],\n",
       "       [0.73254003, 0.26745997],\n",
       "       [0.33885835, 0.66114165],\n",
       "       [0.66727326, 0.33272674],\n",
       "       [0.7053992 , 0.2946008 ],\n",
       "       [0.6501706 , 0.3498294 ],\n",
       "       [0.72619103, 0.27380897],\n",
       "       [0.51202083, 0.48797917],\n",
       "       [0.47225088, 0.52774912],\n",
       "       [0.73422637, 0.26577363],\n",
       "       [0.26784648, 0.73215352],\n",
       "       [0.66536042, 0.33463958],\n",
       "       [0.68156638, 0.31843362],\n",
       "       [0.73253881, 0.26746119],\n",
       "       [0.71709877, 0.28290123],\n",
       "       [0.6563656 , 0.3436344 ],\n",
       "       [0.58472483, 0.41527517],\n",
       "       [0.70139797, 0.29860203],\n",
       "       [0.50214658, 0.49785342],\n",
       "       [0.70743219, 0.29256781],\n",
       "       [0.34569956, 0.65430044],\n",
       "       [0.69704424, 0.30295576],\n",
       "       [0.64462099, 0.35537901],\n",
       "       [0.59274687, 0.40725313],\n",
       "       [0.62274796, 0.37725204],\n",
       "       [0.47557533, 0.52442467],\n",
       "       [0.70743219, 0.29256781],\n",
       "       [0.61607192, 0.38392808],\n",
       "       [0.61904614, 0.38095386],\n",
       "       [0.72128312, 0.27871688],\n",
       "       [0.6803438 , 0.3196562 ],\n",
       "       [0.47557533, 0.52442467],\n",
       "       [0.38337525, 0.61662475],\n",
       "       [0.27324397, 0.72675603],\n",
       "       [0.27324397, 0.72675603],\n",
       "       [0.63752924, 0.36247076],\n",
       "       [0.25667626, 0.74332374],\n",
       "       [0.71544238, 0.28455762],\n",
       "       [0.74618968, 0.25381032],\n",
       "       [0.43237245, 0.56762755],\n",
       "       [0.38337525, 0.61662475],\n",
       "       [0.47606132, 0.52393868],\n",
       "       [0.40204902, 0.59795098],\n",
       "       [0.72652066, 0.27347934],\n",
       "       [0.73175153, 0.26824847],\n",
       "       [0.66657666, 0.33342334],\n",
       "       [0.50068609, 0.49931391],\n",
       "       [0.70074078, 0.29925922],\n",
       "       [0.71827441, 0.28172559],\n",
       "       [0.65430638, 0.34569362],\n",
       "       [0.71695345, 0.28304655],\n",
       "       [0.26665626, 0.73334374],\n",
       "       [0.65489316, 0.34510684],\n",
       "       [0.69033812, 0.30966188],\n",
       "       [0.7166891 , 0.2833109 ],\n",
       "       [0.47615695, 0.52384305],\n",
       "       [0.64261576, 0.35738424],\n",
       "       [0.69864612, 0.30135388],\n",
       "       [0.45153432, 0.54846568],\n",
       "       [0.6701322 , 0.3298678 ],\n",
       "       [0.70066096, 0.29933904],\n",
       "       [0.38282757, 0.61717243],\n",
       "       [0.25667626, 0.74332374],\n",
       "       [0.70004482, 0.29995518],\n",
       "       [0.4862817 , 0.5137183 ],\n",
       "       [0.27324397, 0.72675603],\n",
       "       [0.69553723, 0.30446277],\n",
       "       [0.71695345, 0.28304655],\n",
       "       [0.72044126, 0.27955874],\n",
       "       [0.26606242, 0.73393758],\n",
       "       [0.69489331, 0.30510669],\n",
       "       [0.66362281, 0.33637719],\n",
       "       [0.70375753, 0.29624247],\n",
       "       [0.71270699, 0.28729301],\n",
       "       [0.67389135, 0.32610865],\n",
       "       [0.73509973, 0.26490027],\n",
       "       [0.68298677, 0.31701323],\n",
       "       [0.70825303, 0.29174697],\n",
       "       [0.70074078, 0.29925922],\n",
       "       [0.73015046, 0.26984954],\n",
       "       [0.65147768, 0.34852232],\n",
       "       [0.63930742, 0.36069258],\n",
       "       [0.24412922, 0.75587078],\n",
       "       [0.47631296, 0.52368704],\n",
       "       [0.71272684, 0.28727316],\n",
       "       [0.70336502, 0.29663498],\n",
       "       [0.72074718, 0.27925282],\n",
       "       [0.67033044, 0.32966956],\n",
       "       [0.74425617, 0.25574383],\n",
       "       [0.70074078, 0.29925922],\n",
       "       [0.65430638, 0.34569362],\n",
       "       [0.25436388, 0.74563612],\n",
       "       [0.63955752, 0.36044248],\n",
       "       [0.70074078, 0.29925922],\n",
       "       [0.70128534, 0.29871466],\n",
       "       [0.71015446, 0.28984554],\n",
       "       [0.6984254 , 0.3015746 ],\n",
       "       [0.62728474, 0.37271526],\n",
       "       [0.70854257, 0.29145743],\n",
       "       [0.461247  , 0.538753  ],\n",
       "       [0.70806391, 0.29193609],\n",
       "       [0.70074078, 0.29925922],\n",
       "       [0.59421323, 0.40578677],\n",
       "       [0.59016584, 0.40983416],\n",
       "       [0.51513004, 0.48486996],\n",
       "       [0.49471255, 0.50528745],\n",
       "       [0.69301608, 0.30698392],\n",
       "       [0.71057025, 0.28942975],\n",
       "       [0.73509973, 0.26490027],\n",
       "       [0.70074078, 0.29925922],\n",
       "       [0.71739462, 0.28260538],\n",
       "       [0.69976814, 0.30023186],\n",
       "       [0.71624544, 0.28375456],\n",
       "       [0.71821823, 0.28178177],\n",
       "       [0.61601028, 0.38398972],\n",
       "       [0.72559471, 0.27440529],\n",
       "       [0.74559758, 0.25440242],\n",
       "       [0.68001326, 0.31998674],\n",
       "       [0.71137041, 0.28862959],\n",
       "       [0.65169311, 0.34830689],\n",
       "       [0.68276825, 0.31723175],\n",
       "       [0.71327205, 0.28672795],\n",
       "       [0.57527063, 0.42472937],\n",
       "       [0.67576996, 0.32423004],\n",
       "       [0.70375753, 0.29624247],\n",
       "       [0.73509973, 0.26490027],\n",
       "       [0.66248095, 0.33751905],\n",
       "       [0.70622156, 0.29377844],\n",
       "       [0.71124012, 0.28875988],\n",
       "       [0.66547475, 0.33452525],\n",
       "       [0.69295697, 0.30704303],\n",
       "       [0.26192918, 0.73807082],\n",
       "       [0.60522644, 0.39477356],\n",
       "       [0.71278009, 0.28721991],\n",
       "       [0.72922933, 0.27077067],\n",
       "       [0.70447115, 0.29552885],\n",
       "       [0.6648794 , 0.3351206 ],\n",
       "       [0.71502832, 0.28497168],\n",
       "       [0.60313296, 0.39686704],\n",
       "       [0.24412922, 0.75587078],\n",
       "       [0.71840839, 0.28159161]])"
      ]
     },
     "execution_count": 24,
     "metadata": {},
     "output_type": "execute_result"
    }
   ],
   "source": [
    "y_pred1"
   ]
  },
  {
   "cell_type": "code",
   "execution_count": 31,
   "metadata": {},
   "outputs": [],
   "source": [
    "import matplotlib.pyplot as plt"
   ]
  },
  {
   "cell_type": "code",
   "execution_count": 33,
   "metadata": {},
   "outputs": [
    {
     "data": {
      "text/plain": [
       "[<matplotlib.lines.Line2D at 0x2442087d3a0>]"
      ]
     },
     "execution_count": 33,
     "metadata": {},
     "output_type": "execute_result"
    },
    {
     "data": {
      "image/png": "[encoded data removed]",
      "text/plain": [
       "<Figure size 432x288 with 1 Axes>"
      ]
     },
     "metadata": {
      "needs_background": "light"
     },
     "output_type": "display_data"
    }
   ],
   "source": [
    "plt.plot(y_pred1[:,1])"
   ]
  },
  {
   "cell_type": "code",
   "execution_count": 34,
   "metadata": {},
   "outputs": [
    {
     "data": {
      "text/plain": [
       "[<matplotlib.lines.Line2D at 0x24420b4ad00>]"
      ]
     },
     "execution_count": 34,
     "metadata": {},
     "output_type": "execute_result"
    },
    {
     "data": {
      "image/png": "[encoded data removed]",
      "text/plain": [
       "<Figure size 432x288 with 1 Axes>"
      ]
     },
     "metadata": {
      "needs_background": "light"
     },
     "output_type": "display_data"
    }
   ],
   "source": [
    "plt.plot(y_pred1[:,0])"
   ]
  },
  {
   "cell_type": "code",
   "execution_count": null,
   "metadata": {},
   "outputs": [],
   "source": []
  }
 ],
 "metadata": {
  "kernelspec": {
   "display_name": "Python 3",
   "language": "python",
   "name": "python3"
  },
  "language_info": {
   "codemirror_mode": {
    "name": "ipython",
    "version": 3
   },
   "file_extension": ".py",
   "mimetype": "text/x-python",
   "name": "python",
   "nbconvert_exporter": "python",
   "pygments_lexer": "ipython3",
   "version": "3.8.3"
  }
 },
 "nbformat": 4,
 "nbformat_minor": 4
}
