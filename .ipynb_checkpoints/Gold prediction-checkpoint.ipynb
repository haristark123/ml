{
 "cells": [
  {
   "cell_type": "code",
   "execution_count": 1,
   "metadata": {
    "tags": []
   },
   "outputs": [
    {
     "name": "stdout",
     "output_type": "stream",
     "text": [
      "enter the city name ::delhi\n",
      "Gold price for 1 gram in delhi is :: ₹ 4,916\n"
     ]
    }
   ],
   "source": [
    "import requests\n",
    "from bs4 import BeautifulSoup\n",
    "a=input(\"enter the city name ::\")\n",
    "page=requests.get(\"https://www.bankbazaar.com/gold-rate-\"+a+\".html\")\n",
    "scrap_data=BeautifulSoup(page.content,\"html.parser\")\n",
    "# price=scrap_data.find_all(class_=\"bigfont\")\n",
    "price=scrap_data.find_all(class_=\"bigfont\")\n",
    "for i in price:\n",
    "    print(\"Gold price for 1 gram in \"+a+\" is ::\"+i.get_text())"
   ]
  },
  {
   "cell_type": "code",
   "execution_count": 3,
   "metadata": {
    "tags": []
   },
   "outputs": [],
   "source": [
    "# import tkinter as tk\n",
    "# top=tk.Tk()\n",
    "# top.geometry(\"300x300\")\n",
    "# top.title(\"Gold rates\")\n",
    "# # top.configure(bg=\"black\")\n",
    "# #Text Area1\n",
    "# # L1 = tk.Label(top, text=\"User Name\")\n",
    "# # L1.pack( side = tk.LEFT)\n",
    "# # E1 = tk.Entry(top, bd =5)\n",
    "# # E1.pack(side = tk.RIGHT)\n",
    "# data=tk.Text(top)\n",
    "# data.place(x=10,y=35,height=25,width=180)\n",
    "# label=tk.Label(top,text=\"Enter The City\")\n",
    "# label.place(x=15,y=10)\n",
    "# #Button\n",
    "# btn=tk.Button(top,text=\"Submit\",bg=\"red\",fg=\"green\")\n",
    "# btn.place(x=50,y=70,height=25,width=50)\n",
    "# #Text Area2\n",
    "# data1=tk.Text(top)\n",
    "# data1.place(x=10,y=130,height=25,width=180)\n",
    "# label1=tk.Label(top,text=\"Output\")\n",
    "# label1.place(x=15,y=100)\n",
    "# top.mainloop()"
   ]
  },
  {
   "cell_type": "code",
   "execution_count": 2,
   "metadata": {},
   "outputs": [
    {
     "ename": "ModuleNotFoundError",
     "evalue": "No module named 'requests'",
     "output_type": "error",
     "traceback": [
      "\u001b[0;31m---------------------------------------------------------------------------\u001b[0m",
      "\u001b[0;31mModuleNotFoundError\u001b[0m                       Traceback (most recent call last)",
      "\u001b[0;32m<ipython-input-2-95039fbd75c1>\u001b[0m in \u001b[0;36m<module>\u001b[0;34m\u001b[0m\n\u001b[0;32m----> 1\u001b[0;31m \u001b[0;32mimport\u001b[0m \u001b[0mrequests\u001b[0m\u001b[0;34m\u001b[0m\u001b[0;34m\u001b[0m\u001b[0m\n\u001b[0m",
      "\u001b[0;31mModuleNotFoundError\u001b[0m: No module named 'requests'"
     ]
    }
   ],
   "source": [
    "import requests"
   ]
  },
  {
   "cell_type": "code",
   "execution_count": 2,
   "metadata": {
    "tags": []
   },
   "outputs": [
    {
     "name": "stdout",
     "output_type": "stream",
     "text": [
      "Enter the citydelhi\n"
     ]
    }
   ],
   "source": [
    "import requests\n",
    "from bs4 import BeautifulSoup\n",
    "a=input(\"Enter the city\")\n",
    "page=requests.get(\"https://www.bankbazaar.com/gold-rate-\"+a+\".html\")\n",
    "scrap_data=BeautifulSoup(page.content,\"html.parser\")\n",
    "# price=scrap_data.find_all(class_=\"bigfont\")\n",
    "price=scrap_data.find_all(class_=\"bigfont\")\n",
    "for i in price:\n",
    "    current=i.get_text()+\" \"+\"Rupees\"\n",
    "    break\n",
    "import tkinter as tk\n",
    "top=tk.Tk()\n",
    "top.geometry(\"300x300\")\n",
    "top.title(\"Gold rates\")\n",
    "top.configure(bg=\"black\")\n",
    "#Text Area1\n",
    "# L1 = tk.Label(top, text=\"User Name\")\n",
    "# L1.pack( side = tk.LEFT)\n",
    "# E1 = tk.Entry(top, bd =5)\n",
    "# E1.pack(side = tk.RIGHT)\n",
    "data=tk.Text(top)\n",
    "data.place(x=10,y=35,height=25,width=180)\n",
    "label=tk.Label(top,text=\"Enter The City\")\n",
    "label.place(x=15,y=10)\n",
    "#Button\n",
    "btn=tk.Button(top,text=\"Submit\",bg=\"red\",fg=\"green\")\n",
    "btn.place(x=50,y=70,height=25,width=50)\n",
    "#Text Area2\n",
    "data1=tk.Text(top)\n",
    "data1.place(x=10,y=130,height=25,width=180)\n",
    "label1=tk.Label(top,text=\"Price For 1 GRAM GOLD\")\n",
    "label1.place(x=15,y=100)\n",
    "data.insert(tk.END,a)\n",
    "data1.insert(tk.END,current)\n",
    "top.mainloop()"
   ]
  },
  {
   "cell_type": "code",
   "execution_count": null,
   "metadata": {},
   "outputs": [],
   "source": []
  }
 ],
 "metadata": {
  "kernelspec": {
   "display_name": "Python 3",
   "language": "python",
   "name": "python3"
  },
  "language_info": {
   "codemirror_mode": {
    "name": "ipython",
    "version": 3
   },
   "file_extension": ".py",
   "mimetype": "text/x-python",
   "name": "python",
   "nbconvert_exporter": "python",
   "pygments_lexer": "ipython3",
   "version": "3.8.3"
  }
 },
 "nbformat": 4,
 "nbformat_minor": 2
}
