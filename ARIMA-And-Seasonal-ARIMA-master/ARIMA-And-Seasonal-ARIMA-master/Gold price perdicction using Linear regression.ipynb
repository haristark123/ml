{
 "cells": [
  {
   "cell_type": "code",
   "execution_count": 20,
   "metadata": {},
   "outputs": [],
   "source": [
    "import pandas as pd\n",
    "import numpy as np\n",
    "import matplotlib.pyplot as plt\n",
    "%matplotlib inline"
   ]
  },
  {
   "cell_type": "code",
   "execution_count": 21,
   "metadata": {},
   "outputs": [],
   "source": [
    "df=pd.read_csv('Book1.csv')"
   ]
  },
  {
   "cell_type": "code",
   "execution_count": 22,
   "metadata": {},
   "outputs": [
    {
     "data": {
      "text/html": [
       "<div>\n",
       "<style scoped>\n",
       "    .dataframe tbody tr th:only-of-type {\n",
       "        vertical-align: middle;\n",
       "    }\n",
       "\n",
       "    .dataframe tbody tr th {\n",
       "        vertical-align: top;\n",
       "    }\n",
       "\n",
       "    .dataframe thead th {\n",
       "        text-align: right;\n",
       "    }\n",
       "</style>\n",
       "<table border=\"1\" class=\"dataframe\">\n",
       "  <thead>\n",
       "    <tr style=\"text-align: right;\">\n",
       "      <th></th>\n",
       "      <th>Date</th>\n",
       "      <th>Price USD per Oz</th>\n",
       "      <th>Price INR per Gm</th>\n",
       "    </tr>\n",
       "  </thead>\n",
       "  <tbody>\n",
       "    <tr>\n",
       "      <th>0</th>\n",
       "      <td>2009-01</td>\n",
       "      <td>857.726</td>\n",
       "      <td>2264.618110</td>\n",
       "    </tr>\n",
       "    <tr>\n",
       "      <th>1</th>\n",
       "      <td>2009-02</td>\n",
       "      <td>939.763</td>\n",
       "      <td>2481.216972</td>\n",
       "    </tr>\n",
       "    <tr>\n",
       "      <th>2</th>\n",
       "      <td>2009-03</td>\n",
       "      <td>925.989</td>\n",
       "      <td>2444.850056</td>\n",
       "    </tr>\n",
       "    <tr>\n",
       "      <th>3</th>\n",
       "      <td>2009-04</td>\n",
       "      <td>892.663</td>\n",
       "      <td>2356.860811</td>\n",
       "    </tr>\n",
       "    <tr>\n",
       "      <th>4</th>\n",
       "      <td>2009-05</td>\n",
       "      <td>926.855</td>\n",
       "      <td>2447.136519</td>\n",
       "    </tr>\n",
       "  </tbody>\n",
       "</table>\n",
       "</div>"
      ],
      "text/plain": [
       "      Date  Price USD per Oz  Price INR per Gm\n",
       "0  2009-01           857.726       2264.618110\n",
       "1  2009-02           939.763       2481.216972\n",
       "2  2009-03           925.989       2444.850056\n",
       "3  2009-04           892.663       2356.860811\n",
       "4  2009-05           926.855       2447.136519"
      ]
     },
     "execution_count": 22,
     "metadata": {},
     "output_type": "execute_result"
    }
   ],
   "source": [
    "df.head()"
   ]
  },
  {
   "cell_type": "code",
   "execution_count": 23,
   "metadata": {},
   "outputs": [],
   "source": [
    "df.drop('Price USD per Oz',axis=1,inplace=True)"
   ]
  },
  {
   "cell_type": "code",
   "execution_count": 24,
   "metadata": {},
   "outputs": [
    {
     "data": {
      "text/html": [
       "<div>\n",
       "<style scoped>\n",
       "    .dataframe tbody tr th:only-of-type {\n",
       "        vertical-align: middle;\n",
       "    }\n",
       "\n",
       "    .dataframe tbody tr th {\n",
       "        vertical-align: top;\n",
       "    }\n",
       "\n",
       "    .dataframe thead th {\n",
       "        text-align: right;\n",
       "    }\n",
       "</style>\n",
       "<table border=\"1\" class=\"dataframe\">\n",
       "  <thead>\n",
       "    <tr style=\"text-align: right;\">\n",
       "      <th></th>\n",
       "      <th>Date</th>\n",
       "      <th>Price INR per Gm</th>\n",
       "    </tr>\n",
       "  </thead>\n",
       "  <tbody>\n",
       "    <tr>\n",
       "      <th>0</th>\n",
       "      <td>2009-01</td>\n",
       "      <td>2264.618110</td>\n",
       "    </tr>\n",
       "    <tr>\n",
       "      <th>1</th>\n",
       "      <td>2009-02</td>\n",
       "      <td>2481.216972</td>\n",
       "    </tr>\n",
       "    <tr>\n",
       "      <th>2</th>\n",
       "      <td>2009-03</td>\n",
       "      <td>2444.850056</td>\n",
       "    </tr>\n",
       "    <tr>\n",
       "      <th>3</th>\n",
       "      <td>2009-04</td>\n",
       "      <td>2356.860811</td>\n",
       "    </tr>\n",
       "    <tr>\n",
       "      <th>4</th>\n",
       "      <td>2009-05</td>\n",
       "      <td>2447.136519</td>\n",
       "    </tr>\n",
       "  </tbody>\n",
       "</table>\n",
       "</div>"
      ],
      "text/plain": [
       "      Date  Price INR per Gm\n",
       "0  2009-01       2264.618110\n",
       "1  2009-02       2481.216972\n",
       "2  2009-03       2444.850056\n",
       "3  2009-04       2356.860811\n",
       "4  2009-05       2447.136519"
      ]
     },
     "execution_count": 24,
     "metadata": {},
     "output_type": "execute_result"
    }
   ],
   "source": [
    "df.head()"
   ]
  },
  {
   "cell_type": "code",
   "execution_count": 25,
   "metadata": {},
   "outputs": [
    {
     "data": {
      "text/plain": [
       "Date                0\n",
       "Price INR per Gm    0\n",
       "dtype: int64"
      ]
     },
     "execution_count": 25,
     "metadata": {},
     "output_type": "execute_result"
    }
   ],
   "source": [
    "df.isnull().sum()"
   ]
  },
  {
   "cell_type": "code",
   "execution_count": 29,
   "metadata": {},
   "outputs": [],
   "source": [
    "from sklearn.linear_model import LinearRegression\n",
    "model=LinearRegression()"
   ]
  },
  {
   "cell_type": "code",
   "execution_count": 30,
   "metadata": {},
   "outputs": [],
   "source": [
    "df['year']=pd.to_datetime(df.Date,format=\"%Y/%m/%d\").dt.year\n",
    "df['month']=pd.to_datetime(df.Date,format=\"%Y/%m/%d\").dt.month"
   ]
  },
  {
   "cell_type": "code",
   "execution_count": 31,
   "metadata": {},
   "outputs": [
    {
     "data": {
      "text/html": [
       "<div>\n",
       "<style scoped>\n",
       "    .dataframe tbody tr th:only-of-type {\n",
       "        vertical-align: middle;\n",
       "    }\n",
       "\n",
       "    .dataframe tbody tr th {\n",
       "        vertical-align: top;\n",
       "    }\n",
       "\n",
       "    .dataframe thead th {\n",
       "        text-align: right;\n",
       "    }\n",
       "</style>\n",
       "<table border=\"1\" class=\"dataframe\">\n",
       "  <thead>\n",
       "    <tr style=\"text-align: right;\">\n",
       "      <th></th>\n",
       "      <th>Date</th>\n",
       "      <th>Price INR per Gm</th>\n",
       "      <th>year</th>\n",
       "      <th>month</th>\n",
       "    </tr>\n",
       "  </thead>\n",
       "  <tbody>\n",
       "    <tr>\n",
       "      <th>0</th>\n",
       "      <td>2009-01</td>\n",
       "      <td>2264.618110</td>\n",
       "      <td>2009</td>\n",
       "      <td>1</td>\n",
       "    </tr>\n",
       "    <tr>\n",
       "      <th>1</th>\n",
       "      <td>2009-02</td>\n",
       "      <td>2481.216972</td>\n",
       "      <td>2009</td>\n",
       "      <td>2</td>\n",
       "    </tr>\n",
       "    <tr>\n",
       "      <th>2</th>\n",
       "      <td>2009-03</td>\n",
       "      <td>2444.850056</td>\n",
       "      <td>2009</td>\n",
       "      <td>3</td>\n",
       "    </tr>\n",
       "    <tr>\n",
       "      <th>3</th>\n",
       "      <td>2009-04</td>\n",
       "      <td>2356.860811</td>\n",
       "      <td>2009</td>\n",
       "      <td>4</td>\n",
       "    </tr>\n",
       "    <tr>\n",
       "      <th>4</th>\n",
       "      <td>2009-05</td>\n",
       "      <td>2447.136519</td>\n",
       "      <td>2009</td>\n",
       "      <td>5</td>\n",
       "    </tr>\n",
       "  </tbody>\n",
       "</table>\n",
       "</div>"
      ],
      "text/plain": [
       "      Date  Price INR per Gm  year  month\n",
       "0  2009-01       2264.618110  2009      1\n",
       "1  2009-02       2481.216972  2009      2\n",
       "2  2009-03       2444.850056  2009      3\n",
       "3  2009-04       2356.860811  2009      4\n",
       "4  2009-05       2447.136519  2009      5"
      ]
     },
     "execution_count": 31,
     "metadata": {},
     "output_type": "execute_result"
    }
   ],
   "source": [
    "df.head()"
   ]
  },
  {
   "cell_type": "code",
   "execution_count": 32,
   "metadata": {},
   "outputs": [],
   "source": [
    "df.drop('Date',axis=1,inplace=True)"
   ]
  },
  {
   "cell_type": "code",
   "execution_count": 33,
   "metadata": {},
   "outputs": [],
   "source": [
    "X=df[[\"year\",\"month\"]]\n",
    "y=df[\"Price INR per Gm\"]"
   ]
  },
  {
   "cell_type": "code",
   "execution_count": 34,
   "metadata": {},
   "outputs": [
    {
     "data": {
      "text/plain": [
       "LinearRegression()"
      ]
     },
     "execution_count": 34,
     "metadata": {},
     "output_type": "execute_result"
    }
   ],
   "source": [
    "model.fit(X,y)"
   ]
  },
  {
   "cell_type": "code",
   "execution_count": 35,
   "metadata": {},
   "outputs": [
    {
     "data": {
      "text/plain": [
       "array([3324.67193145, 3330.54653576, 3336.42114006, 3342.29574436,\n",
       "       3348.17034866, 3354.04495296, 3359.91955726, 3365.79416156,\n",
       "       3371.66876587, 3377.54337017, 3383.41797447, 3389.29257877,\n",
       "       3354.55661291, 3360.43121721, 3366.30582152, 3372.18042582,\n",
       "       3378.05503012, 3383.92963442, 3389.80423872, 3395.67884302,\n",
       "       3401.55344733, 3407.42805163, 3413.30265593, 3419.17726023,\n",
       "       3384.44129437, 3390.31589867, 3396.19050298, 3402.06510728,\n",
       "       3407.93971158, 3413.81431588, 3419.68892018, 3425.56352448,\n",
       "       3431.43812878, 3437.31273309, 3443.18733739, 3449.06194169,\n",
       "       3414.32597583, 3420.20058013, 3426.07518444, 3431.94978874,\n",
       "       3437.82439304, 3443.69899734, 3449.57360164, 3455.44820594,\n",
       "       3461.32281024, 3467.19741455, 3473.07201885, 3478.94662315,\n",
       "       3444.21065729, 3450.08526159, 3455.95986589, 3461.8344702 ,\n",
       "       3467.7090745 , 3473.5836788 , 3479.4582831 , 3485.3328874 ,\n",
       "       3491.2074917 , 3497.08209601, 3502.95670031, 3508.83130461,\n",
       "       3474.09533875, 3479.96994305, 3485.84454735, 3491.71915166,\n",
       "       3497.59375596, 3503.46836026, 3509.34296456, 3515.21756886,\n",
       "       3521.09217316, 3526.96677747, 3532.84138177, 3538.71598607,\n",
       "       3503.98002021, 3509.85462451, 3515.72922881, 3521.60383312,\n",
       "       3527.47843742, 3533.35304172, 3539.22764602, 3545.10225032,\n",
       "       3550.97685462, 3556.85145892, 3562.72606323, 3568.60066753,\n",
       "       3533.86470167, 3539.73930597, 3545.61391027, 3551.48851458,\n",
       "       3557.36311888, 3563.23772318, 3569.11232748, 3574.98693178,\n",
       "       3580.86153608, 3586.73614038, 3592.61074469, 3598.48534899,\n",
       "       3563.74938313, 3569.62398743, 3575.49859173, 3581.37319603,\n",
       "       3587.24780034, 3593.12240464, 3598.99700894, 3604.87161324,\n",
       "       3610.74621754, 3616.62082184, 3622.49542615, 3628.37003045,\n",
       "       3593.63406459, 3599.50866889, 3605.38327319, 3611.25787749,\n",
       "       3617.1324818 , 3623.0070861 , 3628.8816904 , 3634.7562947 ,\n",
       "       3640.630899  , 3646.5055033 , 3652.38010761, 3658.25471191,\n",
       "       3623.51874605, 3629.39335035, 3635.26795465, 3641.14255895,\n",
       "       3647.01716326, 3652.89176756, 3658.76637186, 3664.64097616,\n",
       "       3670.51558046, 3676.39018476, 3682.26478906, 3688.13939337,\n",
       "       3653.40342751, 3659.27803181, 3665.15263611, 3671.02724041,\n",
       "       3676.90184472, 3682.77644902, 3688.65105332])"
      ]
     },
     "execution_count": 35,
     "metadata": {},
     "output_type": "execute_result"
    }
   ],
   "source": [
    "model.predict(X)"
   ]
  },
  {
   "cell_type": "code",
   "execution_count": 36,
   "metadata": {},
   "outputs": [
    {
     "data": {
      "text/plain": [
       "0.03215922510150049"
      ]
     },
     "execution_count": 36,
     "metadata": {},
     "output_type": "execute_result"
    }
   ],
   "source": [
    "model.score(X,y)"
   ]
  },
  {
   "cell_type": "code",
   "execution_count": 41,
   "metadata": {},
   "outputs": [],
   "source": [
    "from sklearn.metrics import mean_squared_error,r2_score,mean_squared_error\n",
    "error=mean_squared_error(y,model.predict(X))"
   ]
  },
  {
   "cell_type": "code",
   "execution_count": 18,
   "metadata": {},
   "outputs": [
    {
     "data": {
      "text/plain": [
       "306210.76049517095"
      ]
     },
     "execution_count": 18,
     "metadata": {},
     "output_type": "execute_result"
    }
   ],
   "source": [
    "error"
   ]
  },
  {
   "cell_type": "code",
   "execution_count": 40,
   "metadata": {},
   "outputs": [
    {
     "data": {
      "text/plain": [
       "[<matplotlib.lines.Line2D at 0x1e1eef1d2b0>]"
      ]
     },
     "execution_count": 40,
     "metadata": {},
     "output_type": "execute_result"
    },
    {
     "data": {
      "image/png": "[encoded data removed]",
      "text/plain": [
       "<Figure size 432x288 with 1 Axes>"
      ]
     },
     "metadata": {
      "needs_background": "light"
     },
     "output_type": "display_data"
    }
   ],
   "source": [
    "df.plot.scatter(x=\"year\",y=\"Price INR per Gm\")\n",
    "plt.plot(df['year'],model.predict(X))"
   ]
  },
  {
   "cell_type": "code",
   "execution_count": null,
   "metadata": {},
   "outputs": [],
   "source": []
  }
 ],
 "metadata": {
  "kernelspec": {
   "display_name": "Python 3",
   "language": "python",
   "name": "python3"
  },
  "language_info": {
   "codemirror_mode": {
    "name": "ipython",
    "version": 3
   },
   "file_extension": ".py",
   "mimetype": "text/x-python",
   "name": "python",
   "nbconvert_exporter": "python",
   "pygments_lexer": "ipython3",
   "version": "3.8.3"
  }
 },
 "nbformat": 4,
 "nbformat_minor": 4
}
